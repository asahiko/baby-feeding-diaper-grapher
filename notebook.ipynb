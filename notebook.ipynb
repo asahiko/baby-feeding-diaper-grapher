{
 "cells": [
  {
   "cell_type": "code",
   "execution_count": 6,
   "id": "56e05b70-75de-41cd-a0f5-97f0e3437435",
   "metadata": {},
   "outputs": [],
   "source": [
    "import pandas as pd\n",
    "from babyplot_data import load_raw_df, parse_records\n",
    "raw_data = load_raw_df(\"data/data.xlsx\")\n",
    "data = parse_records(raw_data)\n",
    "breast_df = data[\"breast\"]\n",
    "pumped_df = data[\"pumped\"]\n",
    "formula_df = data[\"formula\"]\n",
    "urine_df = data[\"urine\"]\n",
    "stool_df = data[\"stool\"]\n",
    "count_df = data[\"count\"]\n",
    "weight_df = data[\"weight\"]"
   ]
  }
 ],
 "metadata": {
  "kernelspec": {
   "display_name": "Python 3 (ipykernel)",
   "language": "python",
   "name": "python3"
  },
  "language_info": {
   "codemirror_mode": {
    "name": "ipython",
    "version": 3
   },
   "file_extension": ".py",
   "mimetype": "text/x-python",
   "name": "python",
   "nbconvert_exporter": "python",
   "pygments_lexer": "ipython3",
   "version": "3.11.8"
  }
 },
 "nbformat": 4,
 "nbformat_minor": 5
}
